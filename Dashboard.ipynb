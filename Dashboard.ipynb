{
 "cells": [
  {
   "cell_type": "markdown",
   "metadata": {},
   "source": [
    "[DIY Covid-19 Dashboard Kit](https://github.com/fsmeraldi/diy-covid19dash) (C) Fabrizio Smeraldi, 2020 ([f.smeraldi@qmul.ac.uk](mailto:f.smeraldi@qmul.ac.uk) - [web](http://www.eecs.qmul.ac.uk/~fabri/)). This notebook is released under the [GNU GPLv3.0 or later](https://www.gnu.org/licenses/)."
   ]
  },
  {
   "cell_type": "markdown",
   "metadata": {},
   "source": [
    "# Covid-19 Dashboard"
   ]
  },
  {
   "cell_type": "markdown",
   "metadata": {},
   "source": [
    "Welcome to the Covid-19 Dashboard. \n",
    "This dashboard presents a comparison between Covid-19 cases and test in th UK. The data record all Covid tests and cases from the start of the pandemic. All data are access from the official GOV.UK Coronavirus website."
   ]
  },
  {
   "cell_type": "code",
   "execution_count": 5,
   "metadata": {},
   "outputs": [],
   "source": [
    "from IPython.display import clear_output\n",
    "import ipywidgets as wdg\n",
    "import pandas as pd\n",
    "import numpy as np\n",
    "import matplotlib.pyplot as plt\n",
    "import json\n",
    "from uk_covid19 import Cov19API"
   ]
  },
  {
   "cell_type": "code",
   "execution_count": 6,
   "metadata": {},
   "outputs": [],
   "source": [
    "#help('uk_covid19')\n",
    "#dir('uk_covid19')"
   ]
  },
  {
   "cell_type": "code",
   "execution_count": 7,
   "metadata": {},
   "outputs": [],
   "source": [
    "%matplotlib inline\n",
    "# make figures larger\n",
    "plt.rcParams['figure.dpi'] = 100"
   ]
  },
  {
   "cell_type": "code",
   "execution_count": 8,
   "metadata": {},
   "outputs": [],
   "source": [
    "fil = ['areaType=nation', 'areaName=England']\n",
    "\n",
    "stru= {\"date\": \"date\",\n",
    "       \"cases\": \"newCasesBySpecimenDate\",\n",
    "       \"test\":\"newVirusTestsBySpecimenDate\"}\n",
    "\n",
    "testnumber= Cov19API(filters=fil, structure=stru).get_json()\n",
    "\n",
    "with open (\"TESTNUMBER.json\",\"wt\") as OUTF:\n",
    "    json.dump(testnumber,OUTF)"
   ]
  },
  {
   "cell_type": "code",
   "execution_count": 9,
   "metadata": {
    "scrolled": true
   },
   "outputs": [],
   "source": [
    "def parse_date(datestring):\n",
    "    return pd.to_datetime(datestring, format=\"%Y-%m-%d\")\n",
    "    \n",
    "def wrangle_data(rawdata):\n",
    "    with open(rawdata, \"rt\") as INFILE:\n",
    "        Data=json.load(INFILE)\n",
    "    Datalist=Data['data']\n",
    "    \n",
    "    Dates=[dictionary['date'] for dictionary in Datalist ]\n",
    "    Dates.sort()\n",
    "    startdate=parse_date(Dates[0])\n",
    "    enddate=parse_date(Dates[-1])\n",
    "    Index=pd.date_range(startdate, enddate, freq='D')\n",
    "    TESTNUMBERdf=pd.DataFrame(index=Index, columns=['test', 'cases'])\n",
    "\n",
    "    for i in Datalist:\n",
    "        date=parse_date(i['date'])\n",
    "        for column in ['test','cases']:\n",
    "            if pd.isna(TESTNUMBERdf.loc[date,column]):\n",
    "                value=float(i[column]) if i[column] != None else 0.0\n",
    "                TESTNUMBERdf.loc[date,column]=value\n",
    "    TESTNUMBERdf.fillna(0.0, inplace = True)\n",
    "    return TESTNUMBERdf\n",
    "\n",
    "df=wrangle_data('TESTNUMBER.json')\n"
   ]
  },
  {
   "cell_type": "markdown",
   "metadata": {},
   "source": [
    "## Download current data"
   ]
  },
  {
   "cell_type": "markdown",
   "metadata": {},
   "source": [
    "You can download the up to date Covid-19 data with the bottom below. Try it out.\n",
    "Confirmation message will show up once the data is successfully updated."
   ]
  },
  {
   "cell_type": "code",
   "execution_count": 10,
   "metadata": {},
   "outputs": [],
   "source": [
    "# Place your API access code in this function. Do not call this function directly; it will be called by \n",
    "# the button callback. \n",
    "def access_api():\n",
    "    new_data=Cov19API(filters=fil, structure=stru).get_json()\n",
    "    with open (\"TESTNUMBER.json\",\"wt\") as OUTF:\n",
    "        json.dump(new_data,OUTF)\n",
    "    return \"TESTNUMBER.json\"\n"
   ]
  },
  {
   "cell_type": "code",
   "execution_count": 11,
   "metadata": {},
   "outputs": [
    {
     "data": {
      "application/vnd.jupyter.widget-view+json": {
       "model_id": "40f4fa528d6d446cb7330a82073f85b1",
       "version_major": 2,
       "version_minor": 0
      },
      "text/plain": [
       "Button(button_style='info', description='Update', icon='download', style=ButtonStyle(), tooltip='Click to down…"
      ]
     },
     "metadata": {},
     "output_type": "display_data"
    },
    {
     "data": {
      "application/vnd.jupyter.widget-view+json": {
       "model_id": "55aafcf2f8b94041acd946bddfc5d5fc",
       "version_major": 2,
       "version_minor": 0
      },
      "text/plain": [
       "Label(value='')"
      ]
     },
     "metadata": {},
     "output_type": "display_data"
    }
   ],
   "source": [
    "status_label = wdg.Label()\n",
    "\n",
    "def api_button_callback(button):\n",
    "    try:\n",
    "        status_label.value = \"Fetching data...\"\n",
    "        apidata = access_api()\n",
    "        global df\n",
    "        df = wrangle_data(apidata)\n",
    "        refresh_graph(series)\n",
    "        button.icon = \"check\"\n",
    "        status_label.value = \"Data fetched and graph updated.\"\n",
    "    except Exception as e:\n",
    "        status_label.value = \"Error: \" + str(e)\n",
    "        button.icon = \"times\"   \n",
    "\n",
    "\n",
    "apibutton=wdg.Button(\n",
    "    description='Update', \n",
    "    disabled=False,\n",
    "    button_style='info', \n",
    "    tooltip=\"Click to download the updated data\",\n",
    "    icon='download')\n",
    "\n",
    "apibutton.on_click(api_button_callback)\n",
    "display(apibutton,status_label)\n",
    "# run all cells before clicking on this button"
   ]
  },
  {
   "cell_type": "markdown",
   "metadata": {},
   "source": [
    "## Graphs and Analysis"
   ]
  },
  {
   "cell_type": "markdown",
   "metadata": {},
   "source": [
    "Below is the graphical presentation of the captured data. Linear and Log graphs are both available. The graph automatically update once the new data is fetched."
   ]
  },
  {
   "cell_type": "code",
   "execution_count": 18,
   "metadata": {},
   "outputs": [
    {
     "data": {
      "application/vnd.jupyter.widget-view+json": {
       "model_id": "13bc0d7ba35a4600a7756ffb72fe24d3",
       "version_major": 2,
       "version_minor": 0
      },
      "text/plain": [
       "VBox(children=(HBox(children=(RadioButtons(description='Scale:', layout=Layout(width='max-content'), options=(…"
      ]
     },
     "metadata": {},
     "output_type": "display_data"
    }
   ],
   "source": [
    "\n",
    "def testcase_graph(gcols, gscale):\n",
    "    if gscale=='linear':\n",
    "        logscale=False\n",
    "    else:\n",
    "        logscale=True\n",
    "    ncols=len(gcols)\n",
    "    if ncols>0:\n",
    "        df[list(gcols)].plot(logy=logscale)\n",
    "        plt.show() # important - graphs won't update if this is missing \n",
    "    else:\n",
    "        print(\"Click to select data for graph\")\n",
    "        print(\"(CTRL-Click to select more than one category)\")\n",
    "    plt.show()\n",
    "    \n",
    "\n",
    "def refresh_graph(widget):\n",
    "    current = widget.value\n",
    "    widget.value = tuple()\n",
    "    widget.value = current\n",
    "\n",
    "series=wdg.SelectMultiple(\n",
    "    options=['test', 'cases'],\n",
    "    value=['test','cases'], \n",
    "    rows=2,\n",
    "    description='Stats:',\n",
    "    disabled=False\n",
    ")\n",
    "\n",
    "scale=wdg.RadioButtons(\n",
    "    options=['linear', 'log'],\n",
    "    value='linear', \n",
    "    layout={'width': 'max-content'}, # If the items' names are long\n",
    "    description='Scale:',\n",
    "    disabled=False)\n",
    "\n",
    "controls=wdg.HBox([scale, series])  \n",
    "# connect the plotting function and the widget    \n",
    "graph=wdg.interactive_output(testcase_graph, {'gcols': series, 'gscale': scale})\n",
    "\n",
    "layout=wdg.VBox([controls,graph])\n",
    "# actually displays the graph\n",
    "display(layout)"
   ]
  },
  {
   "cell_type": "markdown",
   "metadata": {},
   "source": [
    "**(C)Han Shuo Ye** ([ec23893@qmul.ac.uk](mailto:ec23893@qmul.ac.uk) ). This notebook is released under the [GNU GPLv3.0 or later](https://www.gnu.org/licenses/).\n",
    "Based on UK Government [data](https://coronavirus.data.gov.uk/) published by [Public Health England](https://www.gov.uk/government/organisations/public-health-england) and on the [DIY Covid Dashboard Kit](https://github.com/fsmeraldi/diy-covid19dash), Copyright (C) Fabrizio Smeraldi 2020,2023. Released under the [GNU GPLv3.0 or later](https://www.gnu.org/licenses/)."
   ]
  },
  {
   "cell_type": "code",
   "execution_count": null,
   "metadata": {},
   "outputs": [],
   "source": []
  },
  {
   "cell_type": "code",
   "execution_count": null,
   "metadata": {},
   "outputs": [],
   "source": []
  }
 ],
 "metadata": {
  "kernelspec": {
   "display_name": "Python 3 (ipykernel)",
   "language": "python",
   "name": "python3"
  },
  "language_info": {
   "codemirror_mode": {
    "name": "ipython",
    "version": 3
   },
   "file_extension": ".py",
   "mimetype": "text/x-python",
   "name": "python",
   "nbconvert_exporter": "python",
   "pygments_lexer": "ipython3",
   "version": "3.10.13"
  }
 },
 "nbformat": 4,
 "nbformat_minor": 4
}
